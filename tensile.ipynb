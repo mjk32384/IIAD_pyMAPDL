{
 "cells": [
  {
   "cell_type": "code",
   "execution_count": 1,
   "metadata": {},
   "outputs": [],
   "source": [
    "import matplotlib.pyplot as plt\n",
    "import matplotlib as mpl\n",
    "import numpy as np\n",
    "import pandas as pd\n",
    "from ansys.mapdl.core import launch_mapdl"
   ]
  },
  {
   "cell_type": "code",
   "execution_count": 2,
   "metadata": {},
   "outputs": [],
   "source": [
    "# Start an MAPDL instance\n",
    "mapdl = launch_mapdl()"
   ]
  },
  {
   "cell_type": "code",
   "execution_count": 3,
   "metadata": {},
   "outputs": [
    {
     "data": {
      "text/plain": [
       "*** MAPDL - ENGINEERING ANALYSIS SYSTEM  RELEASE 2024 R2          24.2     ***\n",
       " Ansys Mechanical Enterprise Academic Student      \n",
       " 01055371  VERSION=WINDOWS x64   23:08:40  NOV 18, 2024 CP=      0.156\n",
       "\n",
       "                                                                               \n",
       "\n",
       "\n",
       "\n",
       "          ***** MAPDL ANALYSIS DEFINITION (PREP7) *****"
      ]
     },
     "execution_count": 3,
     "metadata": {},
     "output_type": "execute_result"
    }
   ],
   "source": [
    "mapdl.finish()\n",
    "mapdl.clear()\n",
    "mapdl.prep7()"
   ]
  },
  {
   "cell_type": "code",
   "execution_count": 4,
   "metadata": {},
   "outputs": [
    {
     "data": {
      "text/plain": [
       "Text(0.5, 1.0, 'Stress-Strain Curve of PLA')"
      ]
     },
     "execution_count": 4,
     "metadata": {},
     "output_type": "execute_result"
    },
    {
     "data": {
      "image/png": "[encoded data removed]",
      "text/plain": [
       "<Figure size 640x480 with 1 Axes>"
      ]
     },
     "metadata": {},
     "output_type": "display_data"
    }
   ],
   "source": [
    "# Define Material\n",
    "stress_strain = pd.read_excel('PLA stress-strain.xlsx')\n",
    "plt.plot(stress_strain['x'], stress_strain['y (MPa)'])\n",
    "plt.xlabel('$\\epsilon$ (%)')\n",
    "plt.ylabel('$\\sigma_T$ (MPa)')\n",
    "plt.title(\"Stress-Strain Curve of PLA\")"
   ]
  },
  {
   "cell_type": "code",
   "execution_count": 5,
   "metadata": {},
   "outputs": [],
   "source": [
    "stress_strain = stress_strain.iloc[:8]  # due to limitations of MISO model\n",
    "stress_strain['y'] = stress_strain['y (MPa)']*1e6\n",
    "stress_strain['x'] = stress_strain['x']/100\n",
    "UTS = stress_strain['y'].max()\n",
    "Youngs_Modulus = stress_strain['y'][1]/stress_strain['x'][1]\n",
    "max_plastic_strain = stress_strain['x'].iloc[-1]\n",
    "\n",
    "mapdl.mp('EX', 1, Youngs_Modulus)   # Young's Modulus in Pascals\n",
    "mapdl.mp('PRXY', 1, 0.33)   # Poisson's Ratio\n",
    "\n",
    "# Non linear 부분 정의\n",
    "stress_strain['x'] = stress_strain['x'] - stress_strain['y']/Youngs_Modulus\n",
    "mapdl.tb('PLASTIC', 1, '', 'MISO')\n",
    "for i in range(len(stress_strain)):\n",
    "    mapdl.tbpt(i, stress_strain['x'][i], stress_strain['y'][i])\n",
    "    "
   ]
  },
  {
   "cell_type": "code",
   "execution_count": 6,
   "metadata": {},
   "outputs": [
    {
     "data": {
      "text/plain": [
       "LIST DATA TABLE  ALL   FOR MATERIAL      1\n",
       "\n",
       " *** MAPDL - ENGINEERING ANALYSIS SYSTEM  RELEASE 2024 R2          24.2     ***\n",
       " Ansys Mechanical Enterprise Academic Student      \n",
       " 01055371  VERSION=WINDOWS x64   23:08:41  NOV 18, 2024 CP=      0.188\n",
       "\n",
       "                                                                               \n",
       "\n",
       "\n",
       "\n",
       "               PLASTIC  (PLAS) Table For Material     1\n",
       "               ISOTROPIC HARDENING PLASTICITY                                                  \n",
       "\n",
       "                     1 \n",
       " Temps     0.0000000e+00 \n",
       "      PlStrain       Stress  \n",
       " 0.0000000e+00 3.2562199e+07 \n",
       " 6.0047983e-04 4.1927234e+07 \n",
       " 9.4595014e-04 4.6167819e+07 \n",
       " 1.9196673e-03 5.3057713e+07 \n",
       " 4.1738999e-03 5.8177004e+07 \n",
       " 6.8089990e-03 6.1528014e+07 \n",
       " 1.0411409e-02 6.1872145e+07"
      ]
     },
     "execution_count": 6,
     "metadata": {},
     "output_type": "execute_result"
    }
   ],
   "source": [
    "mapdl.tblist(lab = 'ALL', mat=1)"
   ]
  },
  {
   "cell_type": "code",
   "execution_count": 7,
   "metadata": {},
   "outputs": [
    {
     "data": {
      "text/plain": [
       "1"
      ]
     },
     "execution_count": 7,
     "metadata": {},
     "output_type": "execute_result"
    }
   ],
   "source": [
    "# Specimen dimensions\n",
    "length = 0.1       # Total length in meters\n",
    "width = 0.02       # Width in meters\n",
    "thickness = 0.005  # Thickness in meters\n",
    "\n",
    "# Create a notched specimen for stress concentration\n",
    "notch_depth = 0.005\n",
    "notch_width = 0.005\n",
    "\n",
    "# Main body\n",
    "mapdl.block(0, length, -width/2, width/2, -thickness/2, thickness/2)"
   ]
  },
  {
   "cell_type": "code",
   "execution_count": 8,
   "metadata": {},
   "outputs": [
    {
     "data": {
      "application/vnd.jupyter.widget-view+json": {
       "model_id": "d65b71177df7434fadf9536b784140b6",
       "version_major": 2,
       "version_minor": 0
      },
      "text/plain": [
       "Widget(value='<iframe src=\"http://localhost:52752/index.html?ui=P_0x1422f7510f0_0&reconnect=auto\" class=\"pyvis…"
      ]
     },
     "metadata": {},
     "output_type": "display_data"
    }
   ],
   "source": [
    "# Element type with plasticity capability (SOLID185 is suitable)\n",
    "mapdl.et(1, 'SOLID185')\n",
    "\n",
    "# Define mesh size\n",
    "mapdl.esize(0.001)  # Smaller element size for better accuracy\n",
    "\n",
    "# Mesh the volume\n",
    "mapdl.vmesh('ALL')\n",
    "mapdl.eplot()"
   ]
  },
  {
   "cell_type": "code",
   "execution_count": 9,
   "metadata": {},
   "outputs": [
    {
     "data": {
      "text/plain": [
       "array([    1,     2,     3, ..., 12724, 12725, 12726])"
      ]
     },
     "execution_count": 9,
     "metadata": {},
     "output_type": "execute_result"
    }
   ],
   "source": [
    "mapdl.nsel('S', 'LOC', 'X', 0)\n",
    "mapdl.d('ALL', 'UX', 0)\n",
    "mapdl.d('ALL', 'UY', 0)\n",
    "mapdl.d('ALL', 'UZ', 0)\n",
    "mapdl.nsel('ALL')"
   ]
  },
  {
   "cell_type": "code",
   "execution_count": 10,
   "metadata": {},
   "outputs": [
    {
     "data": {
      "text/plain": [
       "array([    1,     2,     3, ..., 12724, 12725, 12726])"
      ]
     },
     "execution_count": 10,
     "metadata": {},
     "output_type": "execute_result"
    }
   ],
   "source": [
    "# Define total displacement\n",
    "total_displacement = 0.01  # 10 mm total displacement\n",
    "\n",
    "# Apply displacement at x = length\n",
    "mapdl.nsel('S', 'LOC', 'X', length)\n",
    "mapdl.d('ALL', 'UX', total_displacement)\n",
    "mapdl.nsel('ALL')"
   ]
  },
  {
   "cell_type": "code",
   "execution_count": 11,
   "metadata": {},
   "outputs": [],
   "source": [
    "mapdl.solution()\n",
    "mapdl.antype('STATIC')\n",
    "mapdl.nlgeom('ON')  # Enable large deformation effects\n",
    "\n",
    "number_of_steps = 50\n",
    "displacement_increment = total_displacement / number_of_steps"
   ]
  },
  {
   "cell_type": "code",
   "execution_count": 12,
   "metadata": {},
   "outputs": [
    {
     "data": {
      "text/plain": [
       "USE      20 SUBSTEPS INITIALLY THIS LOAD STEP FOR ALL  DEGREES OF FREEDOM\n",
       " FOR AUTOMATIC TIME STEPPING:\n",
       "   USE    100 SUBSTEPS AS A MAXIMUM\n",
       "   USE      1 SUBSTEPS AS A MINIMUM"
      ]
     },
     "execution_count": 12,
     "metadata": {},
     "output_type": "execute_result"
    }
   ],
   "source": [
    "# mapdl.nropt('UNSYM')  # Use unsymmetric matrix if convergence issues occur\n",
    "mapdl.autots('ON')    # Enable automatic time stepping\n",
    "# mapdl.nliter(50, 0, 0, 0, 0)  # Set maximum number of equilibrium iterations\n",
    "# mapdl.cnvtol('F', 0.1)  # Force convergence tolerance\n",
    "mapdl.nsubst(20, 100, 1)\n",
    "# mapdl.deltim(dtime = \"AUTOTS\", dtmin = 0, dtmax = 1)"
   ]
  },
  {
   "cell_type": "code",
   "execution_count": null,
   "metadata": {},
   "outputs": [],
   "source": [
    "# Initialize arrays to store results\n",
    "reaction_forces = []\n",
    "applied_displacements = []\n",
    "\n",
    "for step in range(1, number_of_steps + 1):\n",
    "    current_disp = displacement_increment * step\n",
    "    mapdl.ddele('ALL', 'UX')  # Remove previous displacement BC\n",
    "    mapdl.nsel('S', 'LOC', 'X', length)\n",
    "    mapdl.d('ALL', 'UX', current_disp)\n",
    "    mapdl.d(\"ALL\", \"UY\", 0)\n",
    "    mapdl.d(\"ALL\", \"UZ\", 0)\n",
    "    mapdl.nsel('S', 'LOC', 'X', 0)\n",
    "    mapdl.d(\"ALL\", \"ALL\", 0)\n",
    "    mapdl.nsel('ALL')\n",
    "    \n",
    "    # Solve current load step\n",
    "    mapdl.solve()\n",
    "    \n",
    "    # Post-process to check for failure criterion\n",
    "    mapdl.post1()\n",
    "    mapdl.set('LAST')\n",
    "    \n",
    "    # Get nodal principal stress\n",
    "    mapdl.nsel('ALL')\n",
    "    mapdl.nsel('S', 'LOC', 'X', vmin=0.4*length, vmax=0.6*length)\n",
    "    principal_stress = np.maximum.reduce([mapdl.post_processing.nodal_principal_stress(\"1\"),\n",
    "                  mapdl.post_processing.nodal_principal_stress(\"2\"),\n",
    "                  mapdl.post_processing.nodal_principal_stress(\"3\")])\n",
    "\n",
    "\n",
    "    mapdl.nsel('ALL')\n",
    "    mapdl.nsel('S', 'LOC', 'X', 0)\n",
    "\n",
    "    reaction_forces_selected = mapdl.prrsol('FX').to_dataframe(columns=[\"NODE\", \"FX\"])\n",
    "    reaction_force = abs(reaction_forces_selected['FX'].sum())\n",
    "\n",
    "    # Get the reaction forces from the result object\n",
    "    # result = mapdl.result\n",
    "    # # 이거를 result 안쓰고 하는 법 없나? result 문법을 잘 모르겠음\n",
    "    # nnum, reaction_force = result.nodal_static_forces(0)\n",
    "    # mapdl.nsel('ALL')\n",
    "    # mapdl.nsel('S', 'LOC', 'X', 0)\n",
    "    # selected_nodes = mapdl.mesh.nnum  # Node numbers in the current selection\n",
    "    # reaction_force = reaction_force[selected_nodes-1].sum(axis=0)[0]\n",
    "    \n",
    "    reaction_forces.append(reaction_force)\n",
    "    applied_displacements.append(current_disp)\n",
    "\n",
    "    if (principal_stress > UTS).sum() > 0:\n",
    "        print(\"Specimen failed\")\n",
    "        break\n",
    "    mapdl.solution()"
   ]
  },
  {
   "cell_type": "code",
   "execution_count": 18,
   "metadata": {},
   "outputs": [
    {
     "ename": "ValueError",
     "evalue": "The results obtained with 'S,1,' are empty.\nYou can check the MAPDL output by issuing:\n\nmapdl.run('*vget,temp_array, node, , S, 1, ')",
     "output_type": "error",
     "traceback": [
      "\u001b[1;31m---------------------------------------------------------------------------\u001b[0m",
      "\u001b[1;31mValueError\u001b[0m                                Traceback (most recent call last)",
      "Cell \u001b[1;32mIn[18], line 1\u001b[0m\n\u001b[1;32m----> 1\u001b[0m \u001b[43mmapdl\u001b[49m\u001b[38;5;241;43m.\u001b[39;49m\u001b[43mpost_processing\u001b[49m\u001b[38;5;241;43m.\u001b[39;49m\u001b[43mnodal_principal_stress\u001b[49m\u001b[43m(\u001b[49m\u001b[38;5;124;43m\"\u001b[39;49m\u001b[38;5;124;43m1\u001b[39;49m\u001b[38;5;124;43m\"\u001b[39;49m\u001b[43m)\u001b[49m\n",
      "File \u001b[1;32mc:\\Users\\indy1\\anaconda3\\envs\\FastMRI\\lib\\site-packages\\ansys\\mapdl\\core\\post.py:1849\u001b[0m, in \u001b[0;36mPostProcessing.nodal_principal_stress\u001b[1;34m(self, component)\u001b[0m\n\u001b[0;32m   1847\u001b[0m     component \u001b[38;5;241m=\u001b[39m \u001b[38;5;28mstr\u001b[39m(component)\n\u001b[0;32m   1848\u001b[0m component \u001b[38;5;241m=\u001b[39m check_comp(component, PRINCIPAL_TYPE)\n\u001b[1;32m-> 1849\u001b[0m \u001b[38;5;28;01mreturn\u001b[39;00m \u001b[38;5;28;43mself\u001b[39;49m\u001b[38;5;241;43m.\u001b[39;49m\u001b[43mnodal_values\u001b[49m\u001b[43m(\u001b[49m\u001b[38;5;124;43m\"\u001b[39;49m\u001b[38;5;124;43mS\u001b[39;49m\u001b[38;5;124;43m\"\u001b[39;49m\u001b[43m,\u001b[49m\u001b[43m \u001b[49m\u001b[43mcomponent\u001b[49m\u001b[43m)\u001b[49m\n",
      "File \u001b[1;32mc:\\Users\\indy1\\anaconda3\\envs\\FastMRI\\lib\\site-packages\\ansys\\mapdl\\core\\post.py:339\u001b[0m, in \u001b[0;36mPostProcessing.nodal_values\u001b[1;34m(self, item, comp)\u001b[0m\n\u001b[0;32m    315\u001b[0m \u001b[38;5;250m\u001b[39m\u001b[38;5;124;03m\"\"\"Obtain the nodal values for a given item and component.\u001b[39;00m\n\u001b[0;32m    316\u001b[0m \n\u001b[0;32m    317\u001b[0m \u001b[38;5;124;03mThis method uses :func:`Mapdl.get_array()<ansys.mapdl.core.Mapdl.get_array`\u001b[39;00m\n\u001b[1;32m   (...)\u001b[0m\n\u001b[0;32m    336\u001b[0m \n\u001b[0;32m    337\u001b[0m \u001b[38;5;124;03m\"\"\"\u001b[39;00m\n\u001b[0;32m    338\u001b[0m \u001b[38;5;66;03m# using _ndof_rst instead of get_array because it is wrapped to check the rst.\u001b[39;00m\n\u001b[1;32m--> 339\u001b[0m values \u001b[38;5;241m=\u001b[39m \u001b[38;5;28;43mself\u001b[39;49m\u001b[38;5;241;43m.\u001b[39;49m\u001b[43m_ndof_rst\u001b[49m\u001b[43m(\u001b[49m\u001b[43mitem\u001b[49m\u001b[38;5;241;43m=\u001b[39;49m\u001b[43mitem\u001b[49m\u001b[43m,\u001b[49m\u001b[43m \u001b[49m\u001b[43mit1num\u001b[49m\u001b[38;5;241;43m=\u001b[39;49m\u001b[43mcomp\u001b[49m\u001b[43m)\u001b[49m\n\u001b[0;32m    340\u001b[0m mask \u001b[38;5;241m=\u001b[39m \u001b[38;5;28mself\u001b[39m\u001b[38;5;241m.\u001b[39mselected_nodes\n\u001b[0;32m    341\u001b[0m \u001b[38;5;28;01mtry\u001b[39;00m:\n",
      "File \u001b[1;32mc:\\Users\\indy1\\anaconda3\\envs\\FastMRI\\lib\\site-packages\\ansys\\mapdl\\core\\post.py:61\u001b[0m, in \u001b[0;36mcheck_result_loaded.<locals>.wrapper\u001b[1;34m(*args, **kwargs)\u001b[0m\n\u001b[0;32m     60\u001b[0m \u001b[38;5;28;01mdef\u001b[39;00m \u001b[38;5;21mwrapper\u001b[39m(\u001b[38;5;241m*\u001b[39margs, \u001b[38;5;241m*\u001b[39m\u001b[38;5;241m*\u001b[39mkwargs):\n\u001b[1;32m---> 61\u001b[0m     \u001b[38;5;28;01mreturn\u001b[39;00m func(\u001b[38;5;241m*\u001b[39margs, \u001b[38;5;241m*\u001b[39m\u001b[38;5;241m*\u001b[39mkwargs)\n",
      "File \u001b[1;32mc:\\Users\\indy1\\anaconda3\\envs\\FastMRI\\lib\\site-packages\\ansys\\mapdl\\core\\post.py:836\u001b[0m, in \u001b[0;36mPostProcessing._ndof_rst\u001b[1;34m(self, item, it1num, item2)\u001b[0m\n\u001b[0;32m    834\u001b[0m values \u001b[38;5;241m=\u001b[39m \u001b[38;5;28mself\u001b[39m\u001b[38;5;241m.\u001b[39m_mapdl\u001b[38;5;241m.\u001b[39mget_array(\u001b[38;5;124m\"\u001b[39m\u001b[38;5;124mNODE\u001b[39m\u001b[38;5;124m\"\u001b[39m, item1\u001b[38;5;241m=\u001b[39mitem, it1num\u001b[38;5;241m=\u001b[39mit1num, item2\u001b[38;5;241m=\u001b[39mitem2)\n\u001b[0;32m    835\u001b[0m \u001b[38;5;28;01mif\u001b[39;00m values\u001b[38;5;241m.\u001b[39msize \u001b[38;5;241m==\u001b[39m \u001b[38;5;241m0\u001b[39m:  \u001b[38;5;66;03m# pragma: no cover\u001b[39;00m\n\u001b[1;32m--> 836\u001b[0m     \u001b[38;5;28;01mraise\u001b[39;00m \u001b[38;5;167;01mValueError\u001b[39;00m(\n\u001b[0;32m    837\u001b[0m         \u001b[38;5;124mf\u001b[39m\u001b[38;5;124m\"\u001b[39m\u001b[38;5;124mThe results obtained with \u001b[39m\u001b[38;5;124m'\u001b[39m\u001b[38;5;132;01m{\u001b[39;00mitem\u001b[38;5;132;01m}\u001b[39;00m\u001b[38;5;124m,\u001b[39m\u001b[38;5;132;01m{\u001b[39;00mit1num\u001b[38;5;132;01m}\u001b[39;00m\u001b[38;5;124m,\u001b[39m\u001b[38;5;132;01m{\u001b[39;00mitem2\u001b[38;5;132;01m}\u001b[39;00m\u001b[38;5;124m'\u001b[39m\u001b[38;5;124m are empty.\u001b[39m\u001b[38;5;130;01m\\n\u001b[39;00m\u001b[38;5;124m\"\u001b[39m\n\u001b[0;32m    838\u001b[0m         \u001b[38;5;124m\"\u001b[39m\u001b[38;5;124mYou can check the MAPDL output by issuing:\u001b[39m\u001b[38;5;130;01m\\n\u001b[39;00m\u001b[38;5;130;01m\\n\u001b[39;00m\u001b[38;5;124m\"\u001b[39m\n\u001b[0;32m    839\u001b[0m         \u001b[38;5;124mf\u001b[39m\u001b[38;5;124m\"\u001b[39m\u001b[38;5;124mmapdl.run(\u001b[39m\u001b[38;5;124m'\u001b[39m\u001b[38;5;124m*vget,temp_array, node, , \u001b[39m\u001b[38;5;132;01m{\u001b[39;00mitem\u001b[38;5;132;01m}\u001b[39;00m\u001b[38;5;124m, \u001b[39m\u001b[38;5;132;01m{\u001b[39;00mit1num\u001b[38;5;132;01m}\u001b[39;00m\u001b[38;5;124m, \u001b[39m\u001b[38;5;132;01m{\u001b[39;00mitem2\u001b[38;5;132;01m}\u001b[39;00m\u001b[38;5;124m'\u001b[39m\u001b[38;5;124m)\u001b[39m\u001b[38;5;124m\"\u001b[39m\n\u001b[0;32m    840\u001b[0m     )\n\u001b[0;32m    841\u001b[0m \u001b[38;5;28;01melse\u001b[39;00m:\n\u001b[0;32m    842\u001b[0m     \u001b[38;5;28;01mreturn\u001b[39;00m values\n",
      "\u001b[1;31mValueError\u001b[0m: The results obtained with 'S,1,' are empty.\nYou can check the MAPDL output by issuing:\n\nmapdl.run('*vget,temp_array, node, , S, 1, ')"
     ]
    }
   ],
   "source": [
    "mapdl.post_processing.nodal_principal_stress(\"1\")"
   ]
  },
  {
   "cell_type": "code",
   "execution_count": 40,
   "metadata": {},
   "outputs": [
    {
     "data": {
      "text/plain": [
       "<matplotlib.collections.PathCollection at 0x14247660df0>"
      ]
     },
     "execution_count": 40,
     "metadata": {},
     "output_type": "execute_result"
    },
    {
     "data": {
      "image/png": "[encoded data removed]",
      "text/plain": [
       "<Figure size 640x480 with 1 Axes>"
      ]
     },
     "metadata": {},
     "output_type": "display_data"
    }
   ],
   "source": [
    "plt.plot(np.array(applied_displacements)/length*100, np.array(reaction_forces)/width/thickness/1e6)\n",
    "stress_strain = pd.read_excel('PLA stress-strain.xlsx')\n",
    "plt.plot(stress_strain['x'], stress_strain['y (MPa)'])\n",
    "plt.scatter(displacement_increment * step/length*100, abs(reaction_forces_selected['FX'].sum())/width/thickness/1e6)"
   ]
  },
  {
   "cell_type": "code",
   "execution_count": null,
   "metadata": {},
   "outputs": [
    {
     "data": {
      "text/plain": [
       "0.1"
      ]
     },
     "execution_count": 39,
     "metadata": {},
     "output_type": "execute_result"
    }
   ],
   "source": [
    "displacement_increment *step*100"
   ]
  },
  {
   "cell_type": "code",
   "execution_count": null,
   "metadata": {},
   "outputs": [
    {
     "data": {
      "text/html": [
       "<div>\n",
       "<style scoped>\n",
       "    .dataframe tbody tr th:only-of-type {\n",
       "        vertical-align: middle;\n",
       "    }\n",
       "\n",
       "    .dataframe tbody tr th {\n",
       "        vertical-align: top;\n",
       "    }\n",
       "\n",
       "    .dataframe thead th {\n",
       "        text-align: right;\n",
       "    }\n",
       "</style>\n",
       "<table border=\"1\" class=\"dataframe\">\n",
       "  <thead>\n",
       "    <tr style=\"text-align: right;\">\n",
       "      <th></th>\n",
       "      <th>NODE</th>\n",
       "      <th>FX</th>\n",
       "    </tr>\n",
       "  </thead>\n",
       "  <tbody>\n",
       "    <tr>\n",
       "      <th>0</th>\n",
       "      <td>1.0</td>\n",
       "      <td>-8.5696</td>\n",
       "    </tr>\n",
       "    <tr>\n",
       "      <th>1</th>\n",
       "      <td>2.0</td>\n",
       "      <td>-8.5696</td>\n",
       "    </tr>\n",
       "    <tr>\n",
       "      <th>2</th>\n",
       "      <td>3.0</td>\n",
       "      <td>-12.5180</td>\n",
       "    </tr>\n",
       "    <tr>\n",
       "      <th>3</th>\n",
       "      <td>4.0</td>\n",
       "      <td>-11.3050</td>\n",
       "    </tr>\n",
       "    <tr>\n",
       "      <th>4</th>\n",
       "      <td>5.0</td>\n",
       "      <td>-11.0660</td>\n",
       "    </tr>\n",
       "    <tr>\n",
       "      <th>...</th>\n",
       "      <td>...</td>\n",
       "      <td>...</td>\n",
       "    </tr>\n",
       "    <tr>\n",
       "      <th>121</th>\n",
       "      <td>5122.0</td>\n",
       "      <td>-16.9660</td>\n",
       "    </tr>\n",
       "    <tr>\n",
       "      <th>122</th>\n",
       "      <td>5123.0</td>\n",
       "      <td>-19.3390</td>\n",
       "    </tr>\n",
       "    <tr>\n",
       "      <th>123</th>\n",
       "      <td>5124.0</td>\n",
       "      <td>-18.8510</td>\n",
       "    </tr>\n",
       "    <tr>\n",
       "      <th>124</th>\n",
       "      <td>5125.0</td>\n",
       "      <td>-18.8510</td>\n",
       "    </tr>\n",
       "    <tr>\n",
       "      <th>125</th>\n",
       "      <td>5126.0</td>\n",
       "      <td>-19.3390</td>\n",
       "    </tr>\n",
       "  </tbody>\n",
       "</table>\n",
       "<p>126 rows × 2 columns</p>\n",
       "</div>"
      ],
      "text/plain": [
       "       NODE       FX\n",
       "0       1.0  -8.5696\n",
       "1       2.0  -8.5696\n",
       "2       3.0 -12.5180\n",
       "3       4.0 -11.3050\n",
       "4       5.0 -11.0660\n",
       "..      ...      ...\n",
       "121  5122.0 -16.9660\n",
       "122  5123.0 -19.3390\n",
       "123  5124.0 -18.8510\n",
       "124  5125.0 -18.8510\n",
       "125  5126.0 -19.3390\n",
       "\n",
       "[126 rows x 2 columns]"
      ]
     },
     "execution_count": 33,
     "metadata": {},
     "output_type": "execute_result"
    }
   ],
   "source": [
    "# Select nodes of interest (e.g., where X = 0)\n",
    "mapdl.nsel(\"ALL\")\n",
    "mapdl.nsel(\"S\", \"LOC\", \"X\", 0)\n",
    "\n",
    "# Retrieve reaction forces for selected nodes\n",
    "reaction_forces_selected = mapdl.prrsol('FX').to_dataframe(columns=[\"NODE\", \"FX\"])\n",
    "abs(reaction_forces_selected['FX'].sum())"
   ]
  },
  {
   "cell_type": "code",
   "execution_count": null,
   "metadata": {},
   "outputs": [
    {
     "data": {
      "application/vnd.jupyter.widget-view+json": {
       "model_id": "e4bec2daeef64f79a46031aa9a166322",
       "version_major": 2,
       "version_minor": 0
      },
      "text/plain": [
       "Widget(value='<iframe src=\"http://localhost:52175/index.html?ui=P_0x20fbc8734c0_1&reconnect=auto\" class=\"pyvis…"
      ]
     },
     "metadata": {},
     "output_type": "display_data"
    }
   ],
   "source": [
    "result = mapdl.result\n",
    "result.plot_nodal_displacement(\n",
    "    0,\n",
    "    cpos=\"xy\",\n",
    "    displacement_factor=5,\n",
    "    show_displacement=True,\n",
    "    show_edges=True,\n",
    ")"
   ]
  },
  {
   "cell_type": "code",
   "execution_count": 17,
   "metadata": {},
   "outputs": [
    {
     "data": {
      "application/vnd.jupyter.widget-view+json": {
       "model_id": "42d270b36edc488b92904f975d7499c2",
       "version_major": 2,
       "version_minor": 0
      },
      "text/plain": [
       "Widget(value='<iframe src=\"http://localhost:52175/index.html?ui=P_0x20faef20400_2&reconnect=auto\" class=\"pyvis…"
      ]
     },
     "metadata": {},
     "output_type": "display_data"
    }
   ],
   "source": [
    "result.plot_principal_nodal_stress(\n",
    "    0,\n",
    "    \"SEQV\",\n",
    "    cpos=\"xy\",\n",
    "    background=\"w\",\n",
    "    text_color=\"k\",\n",
    "    add_text=True,\n",
    "    show_edges=True,\n",
    ")"
   ]
  },
  {
   "cell_type": "code",
   "execution_count": 130,
   "metadata": {},
   "outputs": [
    {
     "data": {
      "text/plain": [
       "8208.552429199219"
      ]
     },
     "execution_count": 130,
     "metadata": {},
     "output_type": "execute_result"
    }
   ],
   "source": [
    "# Get the reaction forces from the result object\n",
    "nnum, reaction_forces = result.nodal_static_forces(0)\n",
    "mapdl.allsel()\n",
    "mapdl.nsel('S', 'LOC', 'X', 0)\n",
    "selected_nodes = mapdl.mesh.nnum  # Node numbers in the current selection\n",
    "reaction_forces[selected_nodes-1].sum(axis=0)[0]"
   ]
  },
  {
   "cell_type": "code",
   "execution_count": 129,
   "metadata": {},
   "outputs": [
    {
     "data": {
      "text/plain": [
       "array([-8208.5524292,     0.       ,     0.       ])"
      ]
     },
     "execution_count": 129,
     "metadata": {},
     "output_type": "execute_result"
    }
   ],
   "source": [
    "mapdl.allsel()\n",
    "mapdl.nsel('S', 'LOC', 'X', length)\n",
    "selected_nodes = mapdl.mesh.nnum  # Node numbers in the current selection\n",
    "reaction_forces[selected_nodes-1].sum(axis=0)"
   ]
  },
  {
   "cell_type": "code",
   "execution_count": 95,
   "metadata": {},
   "outputs": [
    {
     "name": "stdout",
     "output_type": "stream",
     "text": [
      "744.0\n",
      "744.0\n",
      "744.0\n"
     ]
    }
   ],
   "source": [
    "# Initialize variables to store reaction forces\n",
    "total_reaction_force_x = 0.0\n",
    "total_reaction_force_y = 0.0\n",
    "total_reaction_force_z = 0.0\n",
    "\n",
    "mapdl.nsel('S', 'LOC', 'X', 0)\n",
    "# Get list of selected nodes\n",
    "selected_nodes = mapdl.mesh.nnum  # Node numbers in the current selection\n",
    "\n",
    "# Loop over nodes to sum reaction forces\n",
    "for node in selected_nodes:\n",
    "    rfx = mapdl.get_value(entity='NODE', entnum=node, item1='RF', it1num='X')\n",
    "    rfy = mapdl.get_value(entity='NODE', entnum=node, item1='RF', it1num='Y')\n",
    "    rfz = mapdl.get_value(entity='NODE', entnum=node, item1='RF', it1num='Z')\n",
    "\n",
    "    total_reaction_force_x += rfx\n",
    "    total_reaction_force_y += rfy\n",
    "    total_reaction_force_z += rfz\n",
    "print(total_reaction_force_x)\n",
    "print(total_reaction_force_y)\n",
    "print(total_reaction_force_z)"
   ]
  },
  {
   "cell_type": "code",
   "execution_count": 125,
   "metadata": {},
   "outputs": [
    {
     "data": {
      "text/plain": [
       "array([ 0.00000000e+00, -1.42108547e-13, -2.56932253e-11])"
      ]
     },
     "execution_count": 125,
     "metadata": {},
     "output_type": "execute_result"
    }
   ],
   "source": [
    "reaction_forces.sum(axis=0)"
   ]
  },
  {
   "cell_type": "code",
   "execution_count": 104,
   "metadata": {},
   "outputs": [
    {
     "data": {
      "text/html": [
       "<div>\n",
       "<style scoped>\n",
       "    .dataframe tbody tr th:only-of-type {\n",
       "        vertical-align: middle;\n",
       "    }\n",
       "\n",
       "    .dataframe tbody tr th {\n",
       "        vertical-align: top;\n",
       "    }\n",
       "\n",
       "    .dataframe thead th {\n",
       "        text-align: right;\n",
       "    }\n",
       "</style>\n",
       "<table border=\"1\" class=\"dataframe\">\n",
       "  <thead>\n",
       "    <tr style=\"text-align: right;\">\n",
       "      <th></th>\n",
       "      <th>NODE</th>\n",
       "      <th>FX</th>\n",
       "    </tr>\n",
       "  </thead>\n",
       "  <tbody>\n",
       "    <tr>\n",
       "      <th>0</th>\n",
       "      <td>1.0</td>\n",
       "      <td>-445.00</td>\n",
       "    </tr>\n",
       "    <tr>\n",
       "      <th>1</th>\n",
       "      <td>2.0</td>\n",
       "      <td>-445.00</td>\n",
       "    </tr>\n",
       "    <tr>\n",
       "      <th>2</th>\n",
       "      <td>3.0</td>\n",
       "      <td>-682.99</td>\n",
       "    </tr>\n",
       "    <tr>\n",
       "      <th>3</th>\n",
       "      <td>4.0</td>\n",
       "      <td>-649.18</td>\n",
       "    </tr>\n",
       "    <tr>\n",
       "      <th>4</th>\n",
       "      <td>5.0</td>\n",
       "      <td>-648.55</td>\n",
       "    </tr>\n",
       "    <tr>\n",
       "      <th>5</th>\n",
       "      <td>6.0</td>\n",
       "      <td>-648.55</td>\n",
       "    </tr>\n",
       "    <tr>\n",
       "      <th>6</th>\n",
       "      <td>7.0</td>\n",
       "      <td>-649.18</td>\n",
       "    </tr>\n",
       "    <tr>\n",
       "      <th>7</th>\n",
       "      <td>8.0</td>\n",
       "      <td>-682.99</td>\n",
       "    </tr>\n",
       "    <tr>\n",
       "      <th>8</th>\n",
       "      <td>281.0</td>\n",
       "      <td>-445.00</td>\n",
       "    </tr>\n",
       "    <tr>\n",
       "      <th>9</th>\n",
       "      <td>323.0</td>\n",
       "      <td>-445.00</td>\n",
       "    </tr>\n",
       "    <tr>\n",
       "      <th>10</th>\n",
       "      <td>357.0</td>\n",
       "      <td>-682.99</td>\n",
       "    </tr>\n",
       "    <tr>\n",
       "      <th>11</th>\n",
       "      <td>358.0</td>\n",
       "      <td>-649.18</td>\n",
       "    </tr>\n",
       "    <tr>\n",
       "      <th>12</th>\n",
       "      <td>359.0</td>\n",
       "      <td>-648.55</td>\n",
       "    </tr>\n",
       "    <tr>\n",
       "      <th>13</th>\n",
       "      <td>360.0</td>\n",
       "      <td>-648.55</td>\n",
       "    </tr>\n",
       "    <tr>\n",
       "      <th>14</th>\n",
       "      <td>361.0</td>\n",
       "      <td>-649.18</td>\n",
       "    </tr>\n",
       "    <tr>\n",
       "      <th>15</th>\n",
       "      <td>362.0</td>\n",
       "      <td>-682.99</td>\n",
       "    </tr>\n",
       "    <tr>\n",
       "      <th>16</th>\n",
       "      <td>561.0</td>\n",
       "      <td>-789.01</td>\n",
       "    </tr>\n",
       "    <tr>\n",
       "      <th>17</th>\n",
       "      <td>597.0</td>\n",
       "      <td>-789.01</td>\n",
       "    </tr>\n",
       "    <tr>\n",
       "      <th>18</th>\n",
       "      <td>631.0</td>\n",
       "      <td>-1163.10</td>\n",
       "    </tr>\n",
       "    <tr>\n",
       "      <th>19</th>\n",
       "      <td>632.0</td>\n",
       "      <td>-1097.10</td>\n",
       "    </tr>\n",
       "    <tr>\n",
       "      <th>20</th>\n",
       "      <td>633.0</td>\n",
       "      <td>-1095.90</td>\n",
       "    </tr>\n",
       "    <tr>\n",
       "      <th>21</th>\n",
       "      <td>634.0</td>\n",
       "      <td>-1095.90</td>\n",
       "    </tr>\n",
       "    <tr>\n",
       "      <th>22</th>\n",
       "      <td>635.0</td>\n",
       "      <td>-1097.10</td>\n",
       "    </tr>\n",
       "    <tr>\n",
       "      <th>23</th>\n",
       "      <td>636.0</td>\n",
       "      <td>-1163.10</td>\n",
       "    </tr>\n",
       "  </tbody>\n",
       "</table>\n",
       "</div>"
      ],
      "text/plain": [
       "     NODE       FX\n",
       "0     1.0  -445.00\n",
       "1     2.0  -445.00\n",
       "2     3.0  -682.99\n",
       "3     4.0  -649.18\n",
       "4     5.0  -648.55\n",
       "5     6.0  -648.55\n",
       "6     7.0  -649.18\n",
       "7     8.0  -682.99\n",
       "8   281.0  -445.00\n",
       "9   323.0  -445.00\n",
       "10  357.0  -682.99\n",
       "11  358.0  -649.18\n",
       "12  359.0  -648.55\n",
       "13  360.0  -648.55\n",
       "14  361.0  -649.18\n",
       "15  362.0  -682.99\n",
       "16  561.0  -789.01\n",
       "17  597.0  -789.01\n",
       "18  631.0 -1163.10\n",
       "19  632.0 -1097.10\n",
       "20  633.0 -1095.90\n",
       "21  634.0 -1095.90\n",
       "22  635.0 -1097.10\n",
       "23  636.0 -1163.10"
      ]
     },
     "execution_count": 104,
     "metadata": {},
     "output_type": "execute_result"
    }
   ],
   "source": [
    "mapdl.prrsol(lab=\"FX\").to_dataframe(columns=[\"NODE\", \"FX\"])"
   ]
  },
  {
   "cell_type": "code",
   "execution_count": 36,
   "metadata": {},
   "outputs": [
    {
     "data": {
      "text/plain": [
       "EXIT THE MAPDL POST1 DATABASE PROCESSOR\n",
       "\n",
       "\n",
       " ***** ROUTINE COMPLETED *****  CP =         3.812\n",
       "\n",
       "\n",
       "\n",
       " *****  MAPDL SOLUTION ROUTINE  *****"
      ]
     },
     "execution_count": 36,
     "metadata": {},
     "output_type": "execute_result"
    }
   ],
   "source": [
    "mapdl.solution()"
   ]
  },
  {
   "cell_type": "code",
   "execution_count": 43,
   "metadata": {},
   "outputs": [],
   "source": [
    "mapdl.exit()"
   ]
  },
  {
   "cell_type": "code",
   "execution_count": null,
   "metadata": {},
   "outputs": [],
   "source": []
  }
 ],
 "metadata": {
  "kernelspec": {
   "display_name": "FastMRI",
   "language": "python",
   "name": "python3"
  },
  "language_info": {
   "codemirror_mode": {
    "name": "ipython",
    "version": 3
   },
   "file_extension": ".py",
   "mimetype": "text/x-python",
   "name": "python",
   "nbconvert_exporter": "python",
   "pygments_lexer": "ipython3",
   "version": "3.10.13"
  }
 },
 "nbformat": 4,
 "nbformat_minor": 2
}
